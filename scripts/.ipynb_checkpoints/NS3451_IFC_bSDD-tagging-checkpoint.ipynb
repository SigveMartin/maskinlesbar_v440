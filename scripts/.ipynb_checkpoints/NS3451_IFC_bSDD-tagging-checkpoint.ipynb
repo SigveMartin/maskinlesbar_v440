{
 "cells": [
  {
   "cell_type": "code",
   "execution_count": 1,
   "metadata": {
    "collapsed": true
   },
   "outputs": [],
   "source": [
    "import ifcopenshell as ios\n",
    "import pandas as pd\n",
    "import uuid"
   ]
  },
  {
   "cell_type": "code",
   "execution_count": 2,
   "metadata": {
    "collapsed": true
   },
   "outputs": [],
   "source": [
    "## Find mapping file for Real Life Object Mapping (RLOM) here: https://buildingsmart.no/bs-guiden/definisjoner\n",
    "\n",
    "file_name = \"rlom-no-bsdd_20151201/RLOM-NO-bSDD.csv\"\n",
    "rlom_no = pd.read_csv(file_name, sep=';', header=0,engine='python',encoding='utf-8')\n",
    "ns3451_bSDD_rlom = rlom_no.iloc[:,0:21]"
   ]
  },
  {
   "cell_type": "code",
   "execution_count": 3,
   "metadata": {},
   "outputs": [
    {
     "data": {
      "text/html": [
       "<div>\n",
       "<table border=\"1\" class=\"dataframe\">\n",
       "  <thead>\n",
       "    <tr style=\"text-align: right;\">\n",
       "      <th></th>\n",
       "      <th>NS3451 Chapter</th>\n",
       "      <th>NS3451 Chapter name</th>\n",
       "      <th>NS3451 Section</th>\n",
       "      <th>NS3451 Section name</th>\n",
       "      <th>NS 3451 Code</th>\n",
       "      <th>NS 3451 Name</th>\n",
       "      <th>NS 3451 description</th>\n",
       "      <th>bSDD guid</th>\n",
       "      <th>Real life object name</th>\n",
       "      <th>Real life object name</th>\n",
       "      <th>...</th>\n",
       "      <th>RLO name in English</th>\n",
       "      <th>RLO description in English</th>\n",
       "      <th>TFM kode</th>\n",
       "      <th>TFM komponent-funksjon</th>\n",
       "      <th>TFM faganvendelse</th>\n",
       "      <th>IFC4 entity</th>\n",
       "      <th>IFC4 type</th>\n",
       "      <th>Ifc4 Enumeration</th>\n",
       "      <th>Ifc properties</th>\n",
       "      <th>Comments</th>\n",
       "    </tr>\n",
       "  </thead>\n",
       "  <tbody>\n",
       "    <tr>\n",
       "      <th>37</th>\n",
       "      <td>2.0</td>\n",
       "      <td>BYGNING</td>\n",
       "      <td>23.0</td>\n",
       "      <td>Yttervegger</td>\n",
       "      <td>234.0</td>\n",
       "      <td>Vinduer dører porter</td>\n",
       "      <td>Inkluderer:\\n- Blindkarm tetting utfôringer be...</td>\n",
       "      <td>30WOOURs1CvQdsoIqeIK9u</td>\n",
       "      <td>Dør, karusell, utvendig</td>\n",
       "      <td>karuselldør utvendig utvendig karuselldør</td>\n",
       "      <td>...</td>\n",
       "      <td>door revolving revolving external door</td>\n",
       "      <td>NaN</td>\n",
       "      <td>DU</td>\n",
       "      <td>Dør - utvendig</td>\n",
       "      <td>Utvendige Dører; Inngangsdører Utgangsdører Dø...</td>\n",
       "      <td>IfcDoor</td>\n",
       "      <td>IfcDoorTypeOperationEnum</td>\n",
       "      <td>REVOLVING</td>\n",
       "      <td>Pset_DoorCommon.IsExternal: TRUE</td>\n",
       "      <td>NaN</td>\n",
       "    </tr>\n",
       "    <tr>\n",
       "      <th>38</th>\n",
       "      <td>2.0</td>\n",
       "      <td>BYGNING</td>\n",
       "      <td>23.0</td>\n",
       "      <td>Yttervegger</td>\n",
       "      <td>234.0</td>\n",
       "      <td>Vinduer dører porter</td>\n",
       "      <td>Inkluderer:\\n- Blindkarm tetting utfôringer be...</td>\n",
       "      <td>2_Y3IntAfBGw93daNQP1Ez</td>\n",
       "      <td>Dør, utvendig</td>\n",
       "      <td>utvendig dør</td>\n",
       "      <td>...</td>\n",
       "      <td>door set external external dor set</td>\n",
       "      <td>NaN</td>\n",
       "      <td>DU</td>\n",
       "      <td>Dør - utvendig</td>\n",
       "      <td>Utvendige Dører; Inngangsdører Utgangsdører Dø...</td>\n",
       "      <td>IfcDoor</td>\n",
       "      <td>NaN</td>\n",
       "      <td>NaN</td>\n",
       "      <td>Pset_DoorCommon.IsExternal: TRUE</td>\n",
       "      <td>NaN</td>\n",
       "    </tr>\n",
       "    <tr>\n",
       "      <th>39</th>\n",
       "      <td>2.0</td>\n",
       "      <td>BYGNING</td>\n",
       "      <td>23.0</td>\n",
       "      <td>Yttervegger</td>\n",
       "      <td>234.0</td>\n",
       "      <td>Vinduer dører porter</td>\n",
       "      <td>Inkluderer:\\n- Blindkarm tetting utfôringer be...</td>\n",
       "      <td>1Dz0m16q9149EUiTq_CznH</td>\n",
       "      <td>Dør, utvendig, brann</td>\n",
       "      <td>utvendig branndør</td>\n",
       "      <td>...</td>\n",
       "      <td>door set external fire resistant</td>\n",
       "      <td>NaN</td>\n",
       "      <td>DB</td>\n",
       "      <td>Dør - utvendig</td>\n",
       "      <td>Utvendige Dører; Inngangsdører Utgangsdører Dø...</td>\n",
       "      <td>IfcDoor</td>\n",
       "      <td>NaN</td>\n",
       "      <td>NaN</td>\n",
       "      <td>Pset_DoorCommon.IsExternal: TRUE\\nPset_DoorCom...</td>\n",
       "      <td>NaN</td>\n",
       "    </tr>\n",
       "    <tr>\n",
       "      <th>40</th>\n",
       "      <td>2.0</td>\n",
       "      <td>BYGNING</td>\n",
       "      <td>23.0</td>\n",
       "      <td>Yttervegger</td>\n",
       "      <td>234.0</td>\n",
       "      <td>Vinduer dører porter</td>\n",
       "      <td>Inkluderer:\\n- Blindkarm tetting utfôringer be...</td>\n",
       "      <td>3NEmW7BXP7l8$tzU$9pVn5</td>\n",
       "      <td>Port, utvendig</td>\n",
       "      <td>utvendig port port utvendig</td>\n",
       "      <td>...</td>\n",
       "      <td>gate external</td>\n",
       "      <td>NaN</td>\n",
       "      <td>DP</td>\n",
       "      <td>Port</td>\n",
       "      <td>Rulleporter Foldeporter Skyveporter</td>\n",
       "      <td>IfcDoor</td>\n",
       "      <td>NaN</td>\n",
       "      <td>NaN</td>\n",
       "      <td>Pset_DoorCommon.IsExternal: TRUE</td>\n",
       "      <td>NaN</td>\n",
       "    </tr>\n",
       "    <tr>\n",
       "      <th>41</th>\n",
       "      <td>2.0</td>\n",
       "      <td>BYGNING</td>\n",
       "      <td>23.0</td>\n",
       "      <td>Yttervegger</td>\n",
       "      <td>234.0</td>\n",
       "      <td>Vinduer dører porter</td>\n",
       "      <td>Inkluderer:\\n- Blindkarm tetting utfôringer be...</td>\n",
       "      <td>3OZWEFn7D7Qv2yy8sP4fwc</td>\n",
       "      <td>Vindu, utvendig</td>\n",
       "      <td>vindu utvendig utvendig vindu</td>\n",
       "      <td>...</td>\n",
       "      <td>window external external window</td>\n",
       "      <td>NaN</td>\n",
       "      <td>DV</td>\n",
       "      <td>Vindu</td>\n",
       "      <td>Innervinduer Yttervinduer Takvinduer</td>\n",
       "      <td>IfcWindow</td>\n",
       "      <td>NaN</td>\n",
       "      <td>NaN</td>\n",
       "      <td>Pset_WindowCommon.IsExternal: TRUE</td>\n",
       "      <td>NaN</td>\n",
       "    </tr>\n",
       "  </tbody>\n",
       "</table>\n",
       "<p>5 rows × 21 columns</p>\n",
       "</div>"
      ],
      "text/plain": [
       "    NS3451 Chapter NS3451 Chapter name  NS3451 Section NS3451 Section name  \\\n",
       "37             2.0             BYGNING            23.0         Yttervegger   \n",
       "38             2.0             BYGNING            23.0         Yttervegger   \n",
       "39             2.0             BYGNING            23.0         Yttervegger   \n",
       "40             2.0             BYGNING            23.0         Yttervegger   \n",
       "41             2.0             BYGNING            23.0         Yttervegger   \n",
       "\n",
       "    NS 3451 Code          NS 3451 Name  \\\n",
       "37         234.0  Vinduer dører porter   \n",
       "38         234.0  Vinduer dører porter   \n",
       "39         234.0  Vinduer dører porter   \n",
       "40         234.0  Vinduer dører porter   \n",
       "41         234.0  Vinduer dører porter   \n",
       "\n",
       "                                  NS 3451 description               bSDD guid  \\\n",
       "37  Inkluderer:\\n- Blindkarm tetting utfôringer be...  30WOOURs1CvQdsoIqeIK9u   \n",
       "38  Inkluderer:\\n- Blindkarm tetting utfôringer be...  2_Y3IntAfBGw93daNQP1Ez   \n",
       "39  Inkluderer:\\n- Blindkarm tetting utfôringer be...  1Dz0m16q9149EUiTq_CznH   \n",
       "40  Inkluderer:\\n- Blindkarm tetting utfôringer be...  3NEmW7BXP7l8$tzU$9pVn5   \n",
       "41  Inkluderer:\\n- Blindkarm tetting utfôringer be...  3OZWEFn7D7Qv2yy8sP4fwc   \n",
       "\n",
       "     Real life object name                       Real life object name  \\\n",
       "37  Dør, karusell, utvendig  karuselldør utvendig utvendig karuselldør   \n",
       "38            Dør, utvendig                               utvendig dør   \n",
       "39     Dør, utvendig, brann                          utvendig branndør   \n",
       "40           Port, utvendig                utvendig port port utvendig   \n",
       "41          Vindu, utvendig              vindu utvendig utvendig vindu   \n",
       "\n",
       "     ...                        RLO name in English  \\\n",
       "37   ...     door revolving revolving external door   \n",
       "38   ...         door set external external dor set   \n",
       "39   ...           door set external fire resistant   \n",
       "40   ...                              gate external   \n",
       "41   ...            window external external window   \n",
       "\n",
       "   RLO description in English TFM kode TFM komponent-funksjon  \\\n",
       "37                        NaN       DU         Dør - utvendig   \n",
       "38                        NaN       DU         Dør - utvendig   \n",
       "39                        NaN       DB         Dør - utvendig   \n",
       "40                        NaN       DP                   Port   \n",
       "41                        NaN       DV                  Vindu   \n",
       "\n",
       "                                    TFM faganvendelse IFC4 entity  \\\n",
       "37  Utvendige Dører; Inngangsdører Utgangsdører Dø...     IfcDoor   \n",
       "38  Utvendige Dører; Inngangsdører Utgangsdører Dø...     IfcDoor   \n",
       "39  Utvendige Dører; Inngangsdører Utgangsdører Dø...     IfcDoor   \n",
       "40                Rulleporter Foldeporter Skyveporter     IfcDoor   \n",
       "41               Innervinduer Yttervinduer Takvinduer   IfcWindow   \n",
       "\n",
       "                   IFC4 type Ifc4 Enumeration  \\\n",
       "37  IfcDoorTypeOperationEnum        REVOLVING   \n",
       "38                       NaN              NaN   \n",
       "39                       NaN              NaN   \n",
       "40                       NaN              NaN   \n",
       "41                       NaN              NaN   \n",
       "\n",
       "                                       Ifc properties Comments  \n",
       "37                   Pset_DoorCommon.IsExternal: TRUE      NaN  \n",
       "38                   Pset_DoorCommon.IsExternal: TRUE      NaN  \n",
       "39  Pset_DoorCommon.IsExternal: TRUE\\nPset_DoorCom...      NaN  \n",
       "40                   Pset_DoorCommon.IsExternal: TRUE      NaN  \n",
       "41                 Pset_WindowCommon.IsExternal: TRUE      NaN  \n",
       "\n",
       "[5 rows x 21 columns]"
      ]
     },
     "execution_count": 3,
     "metadata": {},
     "output_type": "execute_result"
    }
   ],
   "source": [
    "## Viewing eg. NS 3451 code 231\n",
    "ns3451_bSDD_rlom[ns3451_bSDD_rlom['NS 3451 Code']==234]\n",
    "\n",
    "### \n",
    "# The most \"unique\" level of the NS3451 classification of building elements are the BS 3451 code. \n",
    "# As we can see from the output below a query on NS 3451 = 234 results in 5 posible real life objects\n",
    "# Each having an unique bSDD Guid (i.e. being an uniqe bSDD concept in the world)\n",
    "#\n",
    "# Looking at the output this could actually result in tagging a Window with a bSDD concept for a type of door. \n",
    "# We could do some additional matching to ensure this does not happen, but it is important to note that a \n",
    "# bSDD Concept has one NS3451 code, but that one NS3451 Code have several posible bSDD concepts. \n",
    "# We could do matching on several parameters on the underlying elements in IFC that is getting classified,\n",
    "# but for the purpose of this case we will only ensure that it matches on the right IFC entity type, i.e. not\n",
    "# tagging a window as a door. "
   ]
  },
  {
   "cell_type": "code",
   "execution_count": 4,
   "metadata": {
    "collapsed": true
   },
   "outputs": [],
   "source": [
    "# Get NS 3451 classified ifc file. \n",
    "file = ios.open(\"KontorbyggDIBK.ifc\")"
   ]
  },
  {
   "cell_type": "code",
   "execution_count": 5,
   "metadata": {},
   "outputs": [
    {
     "data": {
      "text/plain": [
       "[#305=IfcClassificationReference('www.standard.no','222','Søyler',#303),\n",
       " #481=IfcClassificationReference('www.standard.no','257','Systemhimlinger',#480),\n",
       " #7835=IfcClassificationReference('www.standard.no','281','Innvendige trapper',#7834),\n",
       " #8745=IfcClassificationReference('www.standard.no','231','Bærende yttervegger',#8744),\n",
       " #14276=IfcClassificationReference('www.standard.no','234','Vinduer, dører, porter',#14275),\n",
       " #46517=IfcClassificationReference('www.standard.no','244','Vinduer, dører, foldevegger',#46516),\n",
       " #125085=IfcClassificationReference('www.standard.no','251','Frittbærende dekker',#125084),\n",
       " #473307=IfcClassificationReference('www.standard.no','26','Yttertak',#473306)]"
      ]
     },
     "execution_count": 5,
     "metadata": {},
     "output_type": "execute_result"
    }
   ],
   "source": [
    "# Docs: \n",
    "#IfcRelAssociatesClassification: http://www.buildingsmart-tech.org/ifc/IFC2x3/TC1/html/ifckernel/lexical/ifcrelassociatesclassification.htm\n",
    "#IfcClassificationReference: http://www.buildingsmart-tech.org/ifc/IFC2x3/TC1/html/ifcexternalreferenceresource/lexical/ifcclassificationreference.htm\n",
    "\n",
    "ifc_rel_as_class = file.by_type(\"IfcRelAssociatesClassification\")\n",
    "classifications = []\n",
    "for assosiation in ifc_rel_as_class:\n",
    "    classifications.append(assosiation.RelatingClassification)\n",
    "classifications\n",
    "\n",
    "# There are actually so few classifiaction references that is used, that we could have easity choesen the elements\n",
    "# manually, or by taking user input for this model. "
   ]
  },
  {
   "cell_type": "code",
   "execution_count": 6,
   "metadata": {
    "collapsed": true
   },
   "outputs": [],
   "source": [
    "'''Helper function to seach the ns3451_bSDD_rlom based on ns classification code and name. \n",
    "returns a list of bsdd guides of type string\n",
    "'''\n",
    "def get_bsdd_info(code,if_centity=None):\n",
    "    if len(code)< 3:\n",
    "        ## Legger til 1 på koder som bare inneholder to siffer.  \n",
    "        code = code+'1'\n",
    "    \n",
    "    info = ns3451_bSDD_rlom.loc[ns3451_bSDD_rlom[\"NS 3451 Code\"] == int(code), [\"bSDD guid\",\"Real life object name\",\"IFC4 entity\"]]\n",
    "    #print(info) ## uncomment this line to see the different results printet for NS 3451 code query\n",
    "    ## Print out the number of possible bsdd concepts matching the query based on NS 3451 code alone.\n",
    "    print('\\nNumber of posible bSDD tags from query on NS 3451 Code: ',info.shape[0])\n",
    "    \n",
    "    if len(info.index)==1:\n",
    "        # If the NS 3451 Code provided a one to one match, then return the result from query\n",
    "        return info.iloc[0].tolist()   \n",
    "    else:\n",
    "        if if_centity is not None:\n",
    "            # limit the result by IfcEntity and spesificity\n",
    "            info = info.loc[(info[\"IFC4 entity\"] == str(if_centity))]\n",
    "        # We see that even for a spesific NS 3451 code on a spesific IfcEntity, eg. 234 IfcDoor, we have several types.\n",
    "        # In order to preserve some accuracy we want to chose the most generic concept in the query. \n",
    "        # Assume that the most generic concept has the shortest name. So get the shortest name from result so far.\n",
    "        minLengthName = min(info[\"Real life object name\"].tolist(), key=len)\n",
    "        info = info.loc[(ns3451_bSDD_rlom[\"Real life object name\"] == minLengthName)]\n",
    "        return info.iloc[0].tolist()\n",
    "    \n",
    "    \n",
    "    "
   ]
  },
  {
   "cell_type": "code",
   "execution_count": 7,
   "metadata": {},
   "outputs": [
    {
     "name": "stdout",
     "output_type": "stream",
     "text": [
      "\n",
      "Number of posible bSDD tags from query on NS 3451 Code:  5\n"
     ]
    },
    {
     "data": {
      "text/plain": [
       "['2_Y3IntAfBGw93daNQP1Ez', 'utvendig dør', 'IfcDoor']"
      ]
     },
     "execution_count": 7,
     "metadata": {},
     "output_type": "execute_result"
    }
   ],
   "source": [
    "get_bsdd_info('234')"
   ]
  },
  {
   "cell_type": "code",
   "execution_count": 8,
   "metadata": {},
   "outputs": [
    {
     "name": "stdout",
     "output_type": "stream",
     "text": [
      "\n",
      "Number of posible bSDD tags from query on NS 3451 Code:  5\n"
     ]
    },
    {
     "data": {
      "text/plain": [
       "['3OZWEFn7D7Qv2yy8sP4fwc', 'vindu utvendig utvendig vindu', 'IfcWindow']"
      ]
     },
     "execution_count": 8,
     "metadata": {},
     "output_type": "execute_result"
    }
   ],
   "source": [
    "# If you know the entity\n",
    "get_bsdd_info('234','IfcWindow')"
   ]
  },
  {
   "cell_type": "code",
   "execution_count": 9,
   "metadata": {},
   "outputs": [
    {
     "data": {
      "text/plain": [
       "[#303=IfcClassification('www.standard.no','4',#302,'NS 3451'),\n",
       " #480=IfcClassification('www.standard.no','4',#479,'NS 3451'),\n",
       " #7834=IfcClassification('www.standard.no','4',#7833,'NS 3451'),\n",
       " #8744=IfcClassification('www.standard.no','4',#8743,'NS 3451'),\n",
       " #14275=IfcClassification('www.standard.no','4',#14274,'NS 3451'),\n",
       " #46516=IfcClassification('www.standard.no','4',#46515,'NS 3451'),\n",
       " #125084=IfcClassification('www.standard.no','4',#125083,'NS 3451'),\n",
       " #473306=IfcClassification('www.standard.no','4',#473305,'NS 3451')]"
      ]
     },
     "execution_count": 9,
     "metadata": {},
     "output_type": "execute_result"
    }
   ],
   "source": [
    "file.by_type(\"IfcClassification\")"
   ]
  },
  {
   "cell_type": "code",
   "execution_count": 10,
   "metadata": {},
   "outputs": [
    {
     "name": "stdout",
     "output_type": "stream",
     "text": [
      "#473312=IfcClassification('http://bsdd.buildingsmart.org/','nb-NO',$,'bSDD')\n"
     ]
    }
   ],
   "source": [
    "## Helper functions for using bSDD in this ifc 2x3 file:\n",
    "# ref. NS8360 and http://catenda.no/archives/2001\n",
    "\n",
    "# function for creating ifc_guid\n",
    "create_guid = lambda: ios.guid.compress(uuid.uuid1().hex)\n",
    "\n",
    "bsdd_url = 'http://bsdd.buildingsmart.org/'\n",
    "# create bSDD classification\n",
    "# Is used to represent the bSDD library in an Ifc file. There should be one and only one instance with Name “bSDD”.\n",
    "# docs: http://www.buildingsmart-tech.org/ifc/IFC2x3/TC1/html/ifcexternalreferenceresource/lexical/ifcclassification.htm\n",
    "bSDD_classification = file.createIfcClassification(bsdd_url,'nb-NO',None,'bSDD')\n",
    "print(bSDD_classification)\n",
    "\n",
    "# create bSDD classification reference in ifc according to NS8360 level 2 \n",
    "# The classification reference is where you store the actual classification. \n",
    "# There should be one and only one classification reference for each classification used.\n",
    "# docs: http://www.buildingsmart-tech.org/ifc/IFC2x3/TC1/html/ifcexternalreferenceresource/lexical/ifcclassificationreference.htm\n",
    "def create_bsdd_classification_reference(bsdd_guid,name):\n",
    "    baseURL = bsdd_url+'#concept/details/'\n",
    "    return file.createIfcClassificationReference(baseURL+bsdd_guid, bsdd_guid, name, bSDD_classification)\n",
    "\n",
    "# Create the IfcRelAccociatesClassification based on an NS3451 klassification reference\n",
    "# Used to create the actual relationship between the classification item and the objects being classified. \n",
    "# In this case between a bSDD GUID (with language representation) and the objects in the BIM\n",
    "# docs: http://www.buildingsmart-tech.org/ifc/IFC2x3/TC1/html/ifckernel/lexical/ifcrelassociatesclassification.htm\n",
    "def tag_ns3451_classified_objects_with_bsdd(ifc_ra_classification):\n",
    "    ns3451_classification = ifc_ra_classification.RelatingClassification\n",
    "    classified_objects = ifc_ra_classification.RelatedObjects\n",
    "    owner_history = ifc_ra_classification.OwnerHistory\n",
    "    name = 'bSDD'\n",
    "    bsdd_info = get_bsdd_info(ns3451_classification.ItemReference,classified_objects[0].is_a())\n",
    "    classification = create_bsdd_classification_reference(bsdd_info[0],bsdd_info[1])\n",
    "\n",
    "    return file.createIfcRelAssociatesClassification(create_guid(),owner_history,name,None,classified_objects,classification)\n",
    "    "
   ]
  },
  {
   "cell_type": "code",
   "execution_count": 11,
   "metadata": {},
   "outputs": [
    {
     "name": "stdout",
     "output_type": "stream",
     "text": [
      "\n",
      "Number of posible bSDD tags from query on NS 3451 Code:  3\n",
      "['3vHQHKoT0Hsm00051Mm008', 'søyle', 'IfcColumn']\n",
      "\n",
      "Number of posible bSDD tags from query on NS 3451 Code:  2\n",
      "['1WO2nIzLLFL9UsDFNObJwk', 'systemhimling', 'IfcCovering']\n",
      "\n",
      "Number of posible bSDD tags from query on NS 3451 Code:  1\n",
      "['2qAcUNUDTCUul2RQzCMBXD', 'trapp innvendig innvendig trapp', 'IfcStair']\n",
      "\n",
      "Number of posible bSDD tags from query on NS 3451 Code:  1\n",
      "['2lq2tPoPj5yhvpYYcnKtVx', 'yttervegg bærende', 'IfcWall']\n",
      "\n",
      "Number of posible bSDD tags from query on NS 3451 Code:  5\n",
      "['3OZWEFn7D7Qv2yy8sP4fwc', 'vindu utvendig utvendig vindu', 'IfcWindow']\n",
      "\n",
      "Number of posible bSDD tags from query on NS 3451 Code:  4\n",
      "['14QkbnyFr0bgWyU0pURpX5', 'dør innvendig innvendig dør innerdør', 'IfcDoor']\n",
      "\n",
      "Number of posible bSDD tags from query on NS 3451 Code:  4\n",
      "['2CemW1O$H3sPztwCpvLdCo', 'prefab dekker', 'IfcSlab']\n",
      "\n",
      "Number of posible bSDD tags from query on NS 3451 Code:  3\n",
      "['3Hvwx39_rCaRS49F4qRGBb', 'tak flat flatt tak tak flatt', 'IfcSlab']\n"
     ]
    }
   ],
   "source": [
    "# Test of critical function. Will only chose one bSDD consept per NS classificaton.\n",
    "for cla in ifc_rel_as_class:\n",
    "    print(get_bsdd_info(cla.RelatingClassification.ItemReference,cla.RelatedObjects[0].is_a()))"
   ]
  },
  {
   "cell_type": "code",
   "execution_count": 13,
   "metadata": {},
   "outputs": [
    {
     "name": "stdout",
     "output_type": "stream",
     "text": [
      "\n",
      "Number of posible bSDD tags from query on NS 3451 Code:  3\n",
      "\n",
      "Number of posible bSDD tags from query on NS 3451 Code:  2\n",
      "\n",
      "Number of posible bSDD tags from query on NS 3451 Code:  1\n",
      "\n",
      "Number of posible bSDD tags from query on NS 3451 Code:  1\n",
      "\n",
      "Number of posible bSDD tags from query on NS 3451 Code:  5\n",
      "\n",
      "Number of posible bSDD tags from query on NS 3451 Code:  4\n",
      "\n",
      "Number of posible bSDD tags from query on NS 3451 Code:  4\n",
      "\n",
      "Number of posible bSDD tags from query on NS 3451 Code:  3\n",
      "Number of bSDD tags created:  8\n"
     ]
    }
   ],
   "source": [
    "# Then we start tagging the file with bSDD classicitaions. \n",
    "i = 0\n",
    "for ifcRelAssClassification in ifc_rel_as_class:\n",
    "    i+=1\n",
    "    tag_ns3451_classified_objects_with_bsdd(ifcRelAssClassification)\n",
    "print('Number of bSDD tags created: ',i)\n"
   ]
  },
  {
   "cell_type": "code",
   "execution_count": 14,
   "metadata": {
    "collapsed": true
   },
   "outputs": [],
   "source": [
    "# Write the contents of the newly tagged to disk\n",
    "file.write('KontorbyggDIBK_bSDD_på_bygningsdeler.ifc')"
   ]
  },
  {
   "cell_type": "code",
   "execution_count": null,
   "metadata": {
    "collapsed": true
   },
   "outputs": [],
   "source": []
  }
 ],
 "metadata": {
  "kernelspec": {
   "display_name": "Python 3",
   "language": "python",
   "name": "python3"
  },
  "language_info": {
   "codemirror_mode": {
    "name": "ipython",
    "version": 3
   },
   "file_extension": ".py",
   "mimetype": "text/x-python",
   "name": "python",
   "nbconvert_exporter": "python",
   "pygments_lexer": "ipython3",
   "version": "3.7.3"
  }
 },
 "nbformat": 4,
 "nbformat_minor": 2
}
