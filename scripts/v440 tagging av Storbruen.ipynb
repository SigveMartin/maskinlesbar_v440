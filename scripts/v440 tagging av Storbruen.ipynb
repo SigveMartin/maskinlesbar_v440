{
 "cells": [
  {
   "cell_type": "markdown",
   "metadata": {},
   "source": [
    "# Script for å legge til v440 klassifikasjon i IFC\n",
    "\n",
    "NS8360 definerer hvordan man skal legge til klassifikasjon i IFC filer. \n",
    "\n",
    "Dette skriptet er laget for å forberede grunnlag for programvarer som deltar i [openLAB : Interoperate] med programmer som mottar åpne filformater klassifisert med v440. \n",
    "\n",
    "Dette eksempelet tar inn en IFC modell og lager v440 klassifikasjoner. def get_v440_uris(label) funksjonen er brukt til å gjøre oppslag i v440 og Bjørnar Markussen har bidratt med å lage IFC modellen og til å velge ut riktig klasse for formålet. \n",
    "\n",
    "Scriptet kan gjenbrukes etter eget ønske og følger lisens av repo (og anvendte biblioteker). "
   ]
  },
  {
   "cell_type": "code",
   "execution_count": 1,
   "metadata": {},
   "outputs": [],
   "source": [
    "import ifcopenshell as ios \n",
    "import requests \n",
    "import uuid"
   ]
  },
  {
   "cell_type": "code",
   "execution_count": 2,
   "metadata": {},
   "outputs": [],
   "source": [
    "file = ios.open(\"../modellfiler/Storbruen.ifc\")"
   ]
  },
  {
   "cell_type": "code",
   "execution_count": 3,
   "metadata": {},
   "outputs": [
    {
     "data": {
      "text/plain": [
       "908"
      ]
     },
     "execution_count": 3,
     "metadata": {},
     "output_type": "execute_result"
    }
   ],
   "source": [
    "products=file.by_type(\"IfcProduct\")\n",
    "len(products)"
   ]
  },
  {
   "cell_type": "code",
   "execution_count": 4,
   "metadata": {},
   "outputs": [],
   "source": [
    "# Helper function to get the material of an IfcObject\n",
    "def get_material(ifcObject):\n",
    "    assert ifcObject.is_a(\"IfcObject\")\n",
    "    if ifcObject.HasAssociations != ():\n",
    "        material = ifcObject.HasAssociations[0].RelatingMaterial.Name\n",
    "    else:\n",
    "        material = None\n",
    "    return material"
   ]
  },
  {
   "cell_type": "code",
   "execution_count": 5,
   "metadata": {},
   "outputs": [],
   "source": [
    "## function to take an IfcProduct object and print out some info about it\n",
    "# ref.: https://standards.buildingsmart.org/IFC/RELEASE/IFC2x3/TC1/HTML/ifckernel/lexical/ifcproduct.htm\n",
    "def print_IfcObject(ifcObject): \n",
    "    assert ifcObject.is_a(\"IfcObject\")\n",
    "    # type\n",
    "    ifcType = ifcObject.is_a()\n",
    "    print(f\"Ifc type:\\t {ifcType}\")\n",
    "    # root attributes\n",
    "    guid = ifcObject.GlobalId\n",
    "    print(f\"Guid:\\t\\t {guid}\")\n",
    "    name = ifcObject.Name\n",
    "    print(f\"Name:\\t\\t {name}\")\n",
    "    description = ifcObject.Description\n",
    "    print(f\"Description:\\t {description}\")\n",
    "    \n",
    "    # Material \n",
    "    material = get_material(ifcObject)\n",
    "    print(f\"Material:\\t {material}\")\n",
    "    \n",
    "    # Object attributes\n",
    "    object_type = ifcObject.ObjectType\n",
    "    \n",
    "    #Tag attributes \n",
    "    if ifcObject.is_a(\"IfcElement\"):\n",
    "        tag = ifcObject.Tag\n",
    "    else:\n",
    "        tag = None\n",
    "    print(f\"Tag:\\t {tag}\")\n",
    "    \n",
    "    print(f\"Type:\\t\\t {object_type}\\n\")\n",
    "    #return ifcType,guid,name,description,material,object_type"
   ]
  },
  {
   "cell_type": "code",
   "execution_count": 6,
   "metadata": {},
   "outputs": [
    {
     "data": {
      "text/plain": [
       "{'CONCRETE/B45', None, 'STEEL/S355NL'}"
      ]
     },
     "execution_count": 6,
     "metadata": {},
     "output_type": "execute_result"
    }
   ],
   "source": [
    "# materialtyper brukt \n",
    "material_types = set([get_material(product) for product in products])\n",
    "material_types"
   ]
  },
  {
   "cell_type": "code",
   "execution_count": 7,
   "metadata": {},
   "outputs": [
    {
     "name": "stdout",
     "output_type": "stream",
     "text": [
      "{'IfcSlab', 'IfcBuildingStorey', 'IfcBuilding', 'IfcWall', 'IfcColumn', 'IfcSite', 'IfcPlate', 'IfcPile', 'IfcFooting'}\n",
      "Ifc type:\t IfcSite\n",
      "Guid:\t\t 0d7Fg7GZj2MxRJj7fJ8JTP\n",
      "Name:\t\t Markusplassen\n",
      "Description:\t None\n",
      "Material:\t None\n",
      "Tag:\t None\n",
      "Type:\t\t None\n",
      "\n",
      "Ifc type:\t IfcBuilding\n",
      "Guid:\t\t 3hly7pMOTAjgSPAEkiYxWH\n",
      "Name:\t\t Storbruen\n",
      "Description:\t None\n",
      "Material:\t None\n",
      "Tag:\t None\n",
      "Type:\t\t None\n",
      "\n",
      "Ifc type:\t IfcBuildingStorey\n",
      "Guid:\t\t 0cBzSKq19B2fg9breFcxZK\n",
      "Name:\t\t Bru\n",
      "Description:\t None\n",
      "Material:\t None\n",
      "Tag:\t None\n",
      "Type:\t\t None\n",
      "\n",
      "Ifc type:\t IfcWall\n",
      "Guid:\t\t 2$g5PKLDbDcQ_QHQTROYUh\n",
      "Name:\t\t Landkar\n",
      "Description:\t OtHLGn-WTEah7oWDYBRV_g_10\n",
      "Material:\t CONCRETE/B45\n",
      "Tag:\t IDcb67dd68-d789-40d7-96cb-8e243a59cbca\n",
      "Type:\t\t OtHLGn-WTEah7oWDYBRV_g_10\n",
      "\n",
      "Ifc type:\t IfcWall\n",
      "Guid:\t\t 1eU5UnQ5f66wyi_$sXLJFy\n",
      "Name:\t\t Landkar\n",
      "Description:\t OtHLGn-WTEah7oWDYBRV_g_13\n",
      "Material:\t CONCRETE/B45\n",
      "Tag:\t IDd22590c1-2cb1-49a8-85d5-4ef82864f831\n",
      "Type:\t\t OtHLGn-WTEah7oWDYBRV_g_13\n",
      "\n",
      "Ifc type:\t IfcWall\n",
      "Guid:\t\t 2tXynej51CR904PE0qycS5\n",
      "Name:\t\t Landkar\n",
      "Description:\t OtHLGn-WTEah7oWDYBRV_g_4\n",
      "Material:\t CONCRETE/B45\n",
      "Tag:\t IDe84730f9-c47b-41c9-8bbc-045c610a1d1c\n",
      "Type:\t\t OtHLGn-WTEah7oWDYBRV_g_4\n",
      "\n",
      "Ifc type:\t IfcWall\n",
      "Guid:\t\t 0LvroMxmj1dAnZ4E132eac\n",
      "Name:\t\t Landkar\n",
      "Description:\t OtHLGn-WTEah7oWDYBRV_g_7\n",
      "Material:\t CONCRETE/B45\n",
      "Tag:\t ID658f1e34-1014-4a98-a68e-e0b93bdc02fe\n",
      "Type:\t\t OtHLGn-WTEah7oWDYBRV_g_7\n",
      "\n",
      "Ifc type:\t IfcPlate\n",
      "Guid:\t\t 0eMAnEyALC5AdbsQWnCzaR\n",
      "Name:\t\t brubjelke\n",
      "Description:\t PL16*5457\n",
      "Material:\t STEEL/S355NL\n",
      "Tag:\t IDe0f30a8c-b121-4d20-b090-342c4d5f4d17\n",
      "Type:\t\t PL16*5457\n",
      "\n",
      "Ifc type:\t IfcPlate\n",
      "Guid:\t\t 3B$CNXQ_j51hid5vU3vyc9\n",
      "Name:\t\t brubjelke\n",
      "Description:\t PL25*2200\n",
      "Material:\t STEEL/S355NL\n",
      "Tag:\t ID1a3dbc33-3d86-4eec-bb85-204874e287bb\n",
      "Type:\t\t PL25*2200\n",
      "\n",
      "Ifc type:\t IfcPlate\n",
      "Guid:\t\t 0WUeZFnhX5bfQFaTMi6SZk\n",
      "Name:\t\t brubjelke\n",
      "Description:\t PL16*5457\n",
      "Material:\t STEEL/S355NL\n",
      "Tag:\t ID87d8d204-dfa0-4728-b10a-7b5741daa551\n",
      "Type:\t\t PL16*5457\n",
      "\n",
      "Ifc type:\t IfcPlate\n",
      "Guid:\t\t 08a840IKj2bwB9_VtYY26x\n",
      "Name:\t\t brubjelke\n",
      "Description:\t PL30*3500\n",
      "Material:\t STEEL/S355NL\n",
      "Tag:\t ID5ca53d20-75b6-4525-ac57-f4a0d7c01565\n",
      "Type:\t\t PL30*3500\n",
      "\n",
      "Ifc type:\t IfcPlate\n",
      "Guid:\t\t 0VvkM2DZf9uBcnt7a0tNeg\n",
      "Name:\t\t brubjelke\n",
      "Description:\t PL25*2200\n",
      "Material:\t STEEL/S355NL\n",
      "Tag:\t ID8902a524-7b4d-4fa0-a97d-9d75277fdeec\n",
      "Type:\t\t PL25*2200\n",
      "\n",
      "Ifc type:\t IfcPlate\n",
      "Guid:\t\t 0psPO_h3zCzQ3sUtUh0prT\n",
      "Name:\t\t brubjelke\n",
      "Description:\t PL16*5457\n",
      "Material:\t STEEL/S355NL\n",
      "Tag:\t IDd6de2cd3-9e0c-40bf-96df-fdb12589cf7f\n",
      "Type:\t\t PL16*5457\n",
      "\n",
      "Ifc type:\t IfcPlate\n",
      "Guid:\t\t 0KotGaQsbAL9qv$Ed0MIAM\n",
      "Name:\t\t brubjelke\n",
      "Description:\t PL30*3500\n",
      "Material:\t STEEL/S355NL\n",
      "Tag:\t IDf8094eec-6ccd-4691-966f-5f0be26a85ad\n",
      "Type:\t\t PL30*3500\n",
      "\n",
      "Ifc type:\t IfcPlate\n",
      "Guid:\t\t 1WdhPRWsL3zxUgIYqvZqcj\n",
      "Name:\t\t brubjelke\n",
      "Description:\t PL25*2200\n",
      "Material:\t STEEL/S355NL\n",
      "Tag:\t IDe3fd1d33-2e28-44c3-9153-95bac6df3a2a\n",
      "Type:\t\t PL25*2200\n",
      "\n"
     ]
    }
   ],
   "source": [
    "#produkt typer og beskrivelse av hvert produkt\n",
    "product_types = set([product.is_a() for product in products])\n",
    "print(product_types)\n",
    "for product in products[:15]: # remove [:15] to print the whole list of products\n",
    "    print_IfcObject(product)\n"
   ]
  },
  {
   "cell_type": "code",
   "execution_count": 8,
   "metadata": {
    "scrolled": true
   },
   "outputs": [
    {
     "name": "stdout",
     "output_type": "stream",
     "text": [
      "{('endeskjørt', 'IfcSlab'), ('Landkar', 'IfcWall'), ('Landkar', 'IfcFooting'), ('Underbygning', 'IfcBuildingStorey'), ('Fundament', 'IfcFooting'), ('Pel', 'IfcPile'), ('Markusplassen', 'IfcSite'), ('Overbygning', 'IfcBuildingStorey'), ('søyle', 'IfcColumn'), ('Bru', 'IfcBuildingStorey'), ('Storbruen', 'IfcBuilding'), ('brubjelke', 'IfcPlate')}\n"
     ]
    }
   ],
   "source": [
    "# Produkt navn og Ifc typer\n",
    "unique_product_names = set([(product.Name,product.is_a()) for product in products])\n",
    "print(unique_product_names)"
   ]
  },
  {
   "cell_type": "code",
   "execution_count": 9,
   "metadata": {},
   "outputs": [],
   "source": [
    "## Ordbok for å knytte IfcRoot.Name og v440 klassifisering \n",
    "# TODO: legg til kode... \n",
    "v440_obj_dict = {\n",
    "    \n",
    "    \"Underbygning\":{\"uri\":\"http://rdf.vegdata.no/V440/v440-owl#Underbygning\",\n",
    "                    \"label\":\"Underbygning\",\n",
    "                    \"code\":\"C\"},\n",
    "    \"Pel\":{\"uri\":\"http://rdf.vegdata.no/V440/v440-owl#Grunnen_Peler\",\n",
    "           \"label\":\"Peler\",\n",
    "            \"code\":\"B2\"},\n",
    "    \"Fundament\":{\"uri\":\"http://rdf.vegdata.no/V440/v440-owl#Pilar_Fundament\",\n",
    "                 \"label\":\"Fundament\",\n",
    "                 \"code\":\"C21\"},\n",
    "    \"søyle\":{\"uri\":\"http://rdf.vegdata.no/V440/v440-owl#Pilar_Soyle_skive\",\n",
    "             \"label\":\"Soyle/skive\",\n",
    "             \"code\":\"C23\"},\n",
    "    \"Storbruen\":{\"uri\":\"http://rdf.vegdata.no/V440/v440-owl#Bjelkebru_platebaerere_konstant_hoyde\",\n",
    "                 \"label\":\"Bjelkebru platebaerere konstant hoyde sveiset med sveiseskjoter uten samvirke\",\n",
    "                 \"code\":\"37\"},\n",
    "    \"Landkar\":{\"uri\":\"http://rdf.vegdata.no/V440/v440-owl#Landkar\",\n",
    "               \"label\":\"Landkar\",\n",
    "               \"code\":\"C1\"},\n",
    "    \"Markusplassen\":{\"uri\":\"http://markusplassen.no/v440/\",\n",
    "                     \"label\":\"Nordlenningen\",\n",
    "                     \"code\":\":-D\"},\n",
    "    \"Bru\":{\"uri\":\"http://rdf.vegdata.no/V440/v440-owl#Brudekke_Slitelag_Brudekke_sek_baeresystem\",\n",
    "           \"label\":\"Bru i fylling\",\n",
    "           \"code\":\"E1\"},\n",
    "    \"endeskjørt\":{\"uri\":\"http://rdf.vegdata.no/V440/v440-owl#Buekonstruksjon_Langsgaende_bjelke\",\n",
    "                  \"label\":\"Langsgaende bjelke\",\n",
    "                  \"code\":\"D45\"},\n",
    "    \"Overbygning\":{\"uri\":\"http://rdf.vegdata.no/V440/v440-owl#Overbygning\",\n",
    "                   \"label\":\"Overbygning\",\n",
    "                   \"code\":\"D\"},\n",
    "    \"brubjelke\":{\"uri\":\"http://rdf.vegdata.no/V440/v440-owl#Buekonstruksjon_Langsgaende_bjelke\",\n",
    "                 \"label\":\"Langsgaende bjelke\",\n",
    "                 \"code\":\"D45\"}\n",
    "}"
   ]
  },
  {
   "cell_type": "code",
   "execution_count": 10,
   "metadata": {},
   "outputs": [],
   "source": [
    "v440_material_dict = {\n",
    "    \"CONCRETE/B45\":{\"uri\":\"http://rdf.vegdata.no/V440/v440-owl#Konstruksjonsmaterialer_Materialtyper_Betong\",\n",
    "                   \"label\":\"Betong, plasstopt\",\n",
    "                    \"code\":\"1\"},\n",
    "    'STEEL/S355NL':{\"uri\":\"http://rdf.vegdata.no/V440/v440-owl#Utstyr_Fugetyper_Stalplatefuge_slepeplate\",\n",
    "                   \"label\":\"Stalplatefuge, slepeplate, fjaerbelastet\",\n",
    "                    \"code\":\"51\"\n",
    "                   }\n",
    "}"
   ]
  },
  {
   "cell_type": "code",
   "execution_count": 11,
   "metadata": {
    "scrolled": false
   },
   "outputs": [
    {
     "data": {
      "text/plain": [
       "[{'label': {'xml:lang': 'no', 'type': 'literal', 'value': 'Underbygning'},\n",
       "  'uri': {'type': 'uri',\n",
       "   'value': 'http://rdf.vegdata.no/v440-owl#Underbygning'}},\n",
       " {'label': {'xml:lang': 'no', 'type': 'literal', 'value': 'Underbygning'},\n",
       "  'uri': {'type': 'uri',\n",
       "   'value': 'http://rdf.vegdata.no/V440/v440-owl#Underbygning'}}]"
      ]
     },
     "execution_count": 11,
     "metadata": {},
     "output_type": "execute_result"
    }
   ],
   "source": [
    "# Hjelpe funksjon for å søke i v440 via sparql\n",
    "def get_v440_uris(label):\n",
    "    url = \"http://rdfspatial.vegdata.no:7200/repositories/V440\"\n",
    "    query =\"\"\"SELECT ?uri ?label ?code\n",
    "                WHERE {\n",
    "                ?uri rdfs:label ?label .\n",
    "                FILTER(STRSTARTS(?label,\"%s\"))\n",
    "                }\"\"\"%label\n",
    "    r = requests.get(url, params = {\"Accept\": \"application/json\", 'query': query})\n",
    "    return r.json()[\"results\"][\"bindings\"]\n",
    "get_v440_uris(\"Underbygning\")"
   ]
  },
  {
   "cell_type": "code",
   "execution_count": 12,
   "metadata": {},
   "outputs": [],
   "source": [
    "## Helper functions to classify IFC models with v440 (or other classifications)\n",
    "# ref. NS8360 -- classifying IFC models \n",
    "\n",
    "# function for creating ifc_guid\n",
    "create_guid = lambda: ios.guid.compress(uuid.uuid1().hex)\n",
    "\n",
    "v440baseUrl = 'http://rdf.vegdata.no/V440/v440-owl'\n",
    "# create v440 classification\n",
    "# Is used to represent the v440 library in an Ifc file. There should be one and only one instance with Name “v440”.\n",
    "# docs: https://standards.buildingsmart.org/IFC/RELEASE/IFC2x3/TC1/HTML/ifcexternalreferenceresource/lexical/ifcclassification.htm\n",
    "v440_classification = file.createIfcClassification(v440baseUrl,'nb-NO',None,'Håndbok V440')\n",
    "\n",
    "# create v440 classification reference in ifc according to NS8360 level 2 \n",
    "# The classification reference is where you store the actual classification. \n",
    "# There should be one and only one classification reference for each classification used.\n",
    "# docs: https://standards.buildingsmart.org/IFC/RELEASE/IFC2x3/TC1/HTML/ifcexternalreferenceresource/lexical/ifcclassificationreference.htm\n",
    "def create_v440_classification_reference(uri,label,code):\n",
    "    print(uri,code,label,v440_classification)\n",
    "    return file.createIfcClassificationReference(uri, code, label, v440_classification)\n",
    "\n",
    "# Create the IfcRelAccociatesClassification based on an NS3451 classification reference\n",
    "# Used to create the actual relationship between the classification item and the objects being classified. \n",
    "# docs: https://standards.buildingsmart.org/IFC/RELEASE/IFC2x3/TC1/HTML/ifckernel/lexical/ifcrelassociatesclassification.htm\n",
    "def classify_ifc_with_v440(v440_dict_obj):\n",
    "    objects = v440_dict_obj[\"objects\"]\n",
    "    uri = v440_dict_obj[\"uri\"]\n",
    "    label = v440_dict_obj[\"label\"]\n",
    "    code = v440_dict_obj[\"code\"]\n",
    "    owner_history = objects[0].OwnerHistory\n",
    "    name = 'Handbok v440'\n",
    "    classification = create_v440_classification_reference(uri,label,code)\n",
    "\n",
    "    return file.createIfcRelAssociatesClassification(create_guid(),owner_history,name,None,objects,classification)\n",
    "    "
   ]
  },
  {
   "cell_type": "code",
   "execution_count": 13,
   "metadata": {},
   "outputs": [],
   "source": [
    "## Legge objecter til i v440 obj dict\n",
    "\n",
    "for product in products:\n",
    "    if \"objects\" in v440_obj_dict[product.Name]:\n",
    "        v440_obj_dict[product.Name][\"objects\"].append(product)\n",
    "    else:\n",
    "        v440_obj_dict[product.Name][\"objects\"] = [product]\n",
    "    "
   ]
  },
  {
   "cell_type": "code",
   "execution_count": 14,
   "metadata": {},
   "outputs": [],
   "source": [
    "## legger til materialtyper til v440 material dict\n",
    "for product in products:\n",
    "    material = get_material(product)\n",
    "    if material != None:\n",
    "        if \"objects\" in v440_material_dict[material]:\n",
    "            v440_material_dict[material][\"objects\"].append(product)\n",
    "        else:\n",
    "            v440_material_dict[material][\"objects\"] = [product]"
   ]
  },
  {
   "cell_type": "code",
   "execution_count": 15,
   "metadata": {},
   "outputs": [
    {
     "name": "stdout",
     "output_type": "stream",
     "text": [
      "http://rdf.vegdata.no/V440/v440-owl#Underbygning Underbygning 1\n",
      "http://rdf.vegdata.no/V440/v440-owl#Grunnen_Peler Peler 126\n",
      "http://rdf.vegdata.no/V440/v440-owl#Pilar_Fundament Fundament 7\n",
      "http://rdf.vegdata.no/V440/v440-owl#Pilar_Soyle_skive Soyle/skive 7\n",
      "http://rdf.vegdata.no/V440/v440-owl#Bjelkebru_platebaerere_konstant_hoyde Bjelkebru platebaerere konstant hoyde sveiset med sveiseskjoter uten samvirke 1\n",
      "http://rdf.vegdata.no/V440/v440-owl#Landkar Landkar 6\n",
      "http://markusplassen.no/v440/ Nordlenningen 1\n",
      "http://rdf.vegdata.no/V440/v440-owl#Brudekke_Slitelag_Brudekke_sek_baeresystem Bru i fylling 1\n",
      "http://rdf.vegdata.no/V440/v440-owl#Buekonstruksjon_Langsgaende_bjelke Langsgaende bjelke 5\n",
      "http://rdf.vegdata.no/V440/v440-owl#Overbygning Overbygning 1\n",
      "http://rdf.vegdata.no/V440/v440-owl#Buekonstruksjon_Langsgaende_bjelke Langsgaende bjelke 752\n"
     ]
    }
   ],
   "source": [
    "# sjekke v440_obj ordbokens innhold\n",
    "for key in v440_obj_dict:\n",
    "    print(v440_obj_dict[key][\"uri\"],v440_obj_dict[key][\"label\"],len(v440_obj_dict[key][\"objects\"]))"
   ]
  },
  {
   "cell_type": "code",
   "execution_count": 16,
   "metadata": {},
   "outputs": [
    {
     "name": "stdout",
     "output_type": "stream",
     "text": [
      "http://rdf.vegdata.no/V440/v440-owl#Konstruksjonsmaterialer_Materialtyper_Betong Betong, plasstopt 25\n",
      "http://rdf.vegdata.no/V440/v440-owl#Utstyr_Fugetyper_Stalplatefuge_slepeplate Stalplatefuge, slepeplate, fjaerbelastet 878\n"
     ]
    }
   ],
   "source": [
    "# sjekke v440_material ordbokens innhold\n",
    "for key in v440_material_dict:\n",
    "    print(v440_material_dict[key][\"uri\"],v440_material_dict[key][\"label\"],len(v440_material_dict[key][\"objects\"]))"
   ]
  },
  {
   "cell_type": "code",
   "execution_count": 17,
   "metadata": {},
   "outputs": [
    {
     "data": {
      "text/plain": [
       "dict_keys(['Underbygning', 'Pel', 'Fundament', 'søyle', 'Storbruen', 'Landkar', 'Markusplassen', 'Bru', 'endeskjørt', 'Overbygning', 'brubjelke'])"
      ]
     },
     "execution_count": 17,
     "metadata": {},
     "output_type": "execute_result"
    }
   ],
   "source": [
    "v440_obj_dict.keys()"
   ]
  },
  {
   "cell_type": "code",
   "execution_count": 18,
   "metadata": {},
   "outputs": [
    {
     "name": "stdout",
     "output_type": "stream",
     "text": [
      "Underbygning\n",
      "http://rdf.vegdata.no/V440/v440-owl#Underbygning C Underbygning #319931=IfcClassification('http://rdf.vegdata.no/V440/v440-owl','nb-NO',$,'Håndbok V440')\n",
      "Pel\n",
      "http://rdf.vegdata.no/V440/v440-owl#Grunnen_Peler B2 Peler #319931=IfcClassification('http://rdf.vegdata.no/V440/v440-owl','nb-NO',$,'Håndbok V440')\n",
      "Fundament\n",
      "http://rdf.vegdata.no/V440/v440-owl#Pilar_Fundament C21 Fundament #319931=IfcClassification('http://rdf.vegdata.no/V440/v440-owl','nb-NO',$,'Håndbok V440')\n",
      "søyle\n",
      "http://rdf.vegdata.no/V440/v440-owl#Pilar_Soyle_skive C23 Soyle/skive #319931=IfcClassification('http://rdf.vegdata.no/V440/v440-owl','nb-NO',$,'Håndbok V440')\n",
      "Storbruen\n",
      "http://rdf.vegdata.no/V440/v440-owl#Bjelkebru_platebaerere_konstant_hoyde 37 Bjelkebru platebaerere konstant hoyde sveiset med sveiseskjoter uten samvirke #319931=IfcClassification('http://rdf.vegdata.no/V440/v440-owl','nb-NO',$,'Håndbok V440')\n",
      "Landkar\n",
      "http://rdf.vegdata.no/V440/v440-owl#Landkar C1 Landkar #319931=IfcClassification('http://rdf.vegdata.no/V440/v440-owl','nb-NO',$,'Håndbok V440')\n",
      "Markusplassen\n",
      "http://markusplassen.no/v440/ :-D Nordlenningen #319931=IfcClassification('http://rdf.vegdata.no/V440/v440-owl','nb-NO',$,'Håndbok V440')\n",
      "Bru\n",
      "http://rdf.vegdata.no/V440/v440-owl#Brudekke_Slitelag_Brudekke_sek_baeresystem E1 Bru i fylling #319931=IfcClassification('http://rdf.vegdata.no/V440/v440-owl','nb-NO',$,'Håndbok V440')\n",
      "endeskjørt\n",
      "http://rdf.vegdata.no/V440/v440-owl#Buekonstruksjon_Langsgaende_bjelke D45 Langsgaende bjelke #319931=IfcClassification('http://rdf.vegdata.no/V440/v440-owl','nb-NO',$,'Håndbok V440')\n",
      "Overbygning\n",
      "http://rdf.vegdata.no/V440/v440-owl#Overbygning D Overbygning #319931=IfcClassification('http://rdf.vegdata.no/V440/v440-owl','nb-NO',$,'Håndbok V440')\n",
      "brubjelke\n",
      "http://rdf.vegdata.no/V440/v440-owl#Buekonstruksjon_Langsgaende_bjelke D45 Langsgaende bjelke #319931=IfcClassification('http://rdf.vegdata.no/V440/v440-owl','nb-NO',$,'Håndbok V440')\n"
     ]
    }
   ],
   "source": [
    "# Klassifisere objekter i IFC modellen med riktig v440 type\n",
    "for key in v440_obj_dict:\n",
    "    print(key)\n",
    "    classify_ifc_with_v440(v440_obj_dict[key])"
   ]
  },
  {
   "cell_type": "code",
   "execution_count": 19,
   "metadata": {},
   "outputs": [
    {
     "data": {
      "text/plain": [
       "dict_keys(['CONCRETE/B45', 'STEEL/S355NL'])"
      ]
     },
     "execution_count": 19,
     "metadata": {},
     "output_type": "execute_result"
    }
   ],
   "source": [
    "v440_material_dict.keys()"
   ]
  },
  {
   "cell_type": "code",
   "execution_count": 20,
   "metadata": {},
   "outputs": [
    {
     "name": "stdout",
     "output_type": "stream",
     "text": [
      "CONCRETE/B45\n",
      "http://rdf.vegdata.no/V440/v440-owl#Konstruksjonsmaterialer_Materialtyper_Betong 1 Betong, plasstopt #319931=IfcClassification('http://rdf.vegdata.no/V440/v440-owl','nb-NO',$,'Håndbok V440')\n",
      "STEEL/S355NL\n",
      "http://rdf.vegdata.no/V440/v440-owl#Utstyr_Fugetyper_Stalplatefuge_slepeplate 51 Stalplatefuge, slepeplate, fjaerbelastet #319931=IfcClassification('http://rdf.vegdata.no/V440/v440-owl','nb-NO',$,'Håndbok V440')\n"
     ]
    }
   ],
   "source": [
    "# klassifisere IFC modell med riktig v440 material type\n",
    "for key in v440_material_dict:\n",
    "    print(key)\n",
    "    classify_ifc_with_v440(v440_material_dict[key])"
   ]
  },
  {
   "cell_type": "code",
   "execution_count": 21,
   "metadata": {},
   "outputs": [
    {
     "data": {
      "text/plain": [
       "13"
      ]
     },
     "execution_count": 21,
     "metadata": {},
     "output_type": "execute_result"
    }
   ],
   "source": [
    "len(file.by_type(\"IfcRelAssociatesClassification\"))"
   ]
  },
  {
   "cell_type": "code",
   "execution_count": 22,
   "metadata": {},
   "outputs": [],
   "source": [
    "## Lagre endringer i ny fil\n",
    "file.write(\"../modellfiler/Storbruenv440_klassifisert.ifc\")"
   ]
  },
  {
   "cell_type": "code",
   "execution_count": 23,
   "metadata": {},
   "outputs": [],
   "source": [
    "file2 = ios.open(\"../modellfiler/Storbruenv440_klassifisert.ifc\")"
   ]
  },
  {
   "cell_type": "code",
   "execution_count": 24,
   "metadata": {},
   "outputs": [],
   "source": [
    "products2 = file2.by_type(\"IfcProduct\")"
   ]
  },
  {
   "cell_type": "code",
   "execution_count": 25,
   "metadata": {},
   "outputs": [
    {
     "data": {
      "text/plain": [
       "#319956=IfcClassificationReference('http://rdf.vegdata.no/V440/v440-owl#Utstyr_Fugetyper_Stalplatefuge_slepeplate','51','Stalplatefuge, slepeplate, fjaerbelastet',#319931)"
      ]
     },
     "execution_count": 25,
     "metadata": {},
     "output_type": "execute_result"
    }
   ],
   "source": [
    "products2[10].HasAssociations[2].RelatingClassification"
   ]
  },
  {
   "cell_type": "code",
   "execution_count": null,
   "metadata": {},
   "outputs": [],
   "source": []
  }
 ],
 "metadata": {
  "kernelspec": {
   "display_name": "Python 3",
   "language": "python",
   "name": "python3"
  },
  "language_info": {
   "codemirror_mode": {
    "name": "ipython",
    "version": 3
   },
   "file_extension": ".py",
   "mimetype": "text/x-python",
   "name": "python",
   "nbconvert_exporter": "python",
   "pygments_lexer": "ipython3",
   "version": "3.7.3"
  }
 },
 "nbformat": 4,
 "nbformat_minor": 2
}
